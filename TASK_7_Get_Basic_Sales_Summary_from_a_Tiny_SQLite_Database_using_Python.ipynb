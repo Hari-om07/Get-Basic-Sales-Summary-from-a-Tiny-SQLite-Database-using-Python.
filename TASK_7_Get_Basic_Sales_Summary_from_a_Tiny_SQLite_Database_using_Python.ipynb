{
  "nbformat": 4,
  "nbformat_minor": 0,
  "metadata": {
    "colab": {
      "provenance": []
    },
    "kernelspec": {
      "name": "python3",
      "display_name": "Python 3"
    },
    "language_info": {
      "name": "python"
    }
  },
  "cells": [
    {
      "cell_type": "code",
      "execution_count": 44,
      "metadata": {
        "id": "8ErxqTZfEUes"
      },
      "outputs": [],
      "source": [
        "import sqlite3\n",
        "import pandas as pd\n",
        "import matplotlib.pyplot as plt"
      ]
    },
    {
      "cell_type": "code",
      "source": [
        "# Step 1: Create and populate the database\n",
        "conn = sqlite3.connect(\"sales_data.db\")\n",
        "cursor = conn.cursor()\n",
        "cursor.execute(\"\"\"\n",
        "CREATE TABLE IF NOT EXISTS sales (\n",
        "    id INTEGER PRIMARY KEY AUTOINCREMENT,\n",
        "    product TEXT,\n",
        "    quantity INTEGER,\n",
        "    price REAL\n",
        ")\n",
        "\"\"\")\n",
        "sales_data = [\n",
        "    (\"Apple\", 10, 1.5),\n",
        "    (\"Banana\", 20, 0.8),\n",
        "    (\"Apple\", 15, 1.5),\n",
        "    (\"Orange\", 30, 1.2),\n",
        "    (\"Banana\", 5, 0.8),\n",
        "    (\"Orange\", 10, 1.2)\n",
        "]\n",
        "cursor.executemany(\"INSERT INTO sales (product, quantity, price) VALUES (?, ?, ?)\", sales_data)\n",
        "conn.commit()"
      ],
      "metadata": {
        "id": "cw9Jgr5OEe95"
      },
      "execution_count": 45,
      "outputs": []
    },
    {
      "cell_type": "code",
      "source": [
        "# Step 2: Query and load data\n",
        "query1 = \"\"\"\n",
        "SELECT product,\n",
        "       SUM(quantity) AS total_qty,\n",
        "       SUM(quantity * price) AS revenue\n",
        "FROM sales\n",
        "GROUP BY product\n",
        "\"\"\"\n",
        "df1 = pd.read_sql_query(query1, conn)\n",
        "print(df1)"
      ],
      "metadata": {
        "colab": {
          "base_uri": "https://localhost:8080/"
        },
        "id": "_4DPkBKUEikK",
        "outputId": "751652e0-1be6-4b6d-ccc4-4779348fcfd9"
      },
      "execution_count": 46,
      "outputs": [
        {
          "output_type": "stream",
          "name": "stdout",
          "text": [
            "  product  total_qty  revenue\n",
            "0   Apple        225    337.5\n",
            "1  Banana        225    180.0\n",
            "2  Orange        360    432.0\n"
          ]
        }
      ]
    },
    {
      "cell_type": "code",
      "source": [
        "query2 = \"\"\"\n",
        "SELECT\n",
        "    SUM(quantity) AS total_quantity_sold,\n",
        "    SUM(quantity * price) AS total_revenue\n",
        "FROM sales\n",
        "\"\"\"\n",
        "df2 = pd.read_sql_query(query2, conn)\n",
        "print(\"Overall Sales Summary:\")\n",
        "print(df2)"
      ],
      "metadata": {
        "colab": {
          "base_uri": "https://localhost:8080/"
        },
        "id": "QaxyTtlnFL2g",
        "outputId": "f2abb43c-eaef-4236-ac9b-de75cacd2dd4"
      },
      "execution_count": 47,
      "outputs": [
        {
          "output_type": "stream",
          "name": "stdout",
          "text": [
            "Overall Sales Summary:\n",
            "   total_quantity_sold  total_revenue\n",
            "0                  810          949.5\n"
          ]
        }
      ]
    },
    {
      "cell_type": "code",
      "source": [
        "query3 = \"\"\"\n",
        "SELECT product, SUM(quantity) AS total_qty\n",
        "FROM sales\n",
        "GROUP BY product\n",
        "ORDER BY total_qty DESC\n",
        "LIMIT 1\n",
        "\"\"\"\n",
        "df3 = pd.read_sql_query(query3, conn)\n",
        "conn.close()\n",
        "print(\"Best-Selling Product (by Quantity):\")\n",
        "print(df3)"
      ],
      "metadata": {
        "colab": {
          "base_uri": "https://localhost:8080/"
        },
        "id": "B45vt0MMFcIz",
        "outputId": "846bb395-53d1-49c7-f7e1-f5726538fa0a"
      },
      "execution_count": 48,
      "outputs": [
        {
          "output_type": "stream",
          "name": "stdout",
          "text": [
            "Best-Selling Product (by Quantity):\n",
            "  product  total_qty\n",
            "0  Orange        360\n"
          ]
        }
      ]
    },
    {
      "cell_type": "code",
      "source": [
        "# Step 3: Plotting\n",
        "df1.plot(kind='bar', x='product', y='revenue', legend=False, color='skyblue')\n",
        "plt.title(\"Revenue by Product\")\n",
        "plt.ylabel(\"Revenue ($)\")\n",
        "plt.xlabel(\"Product\")\n",
        "plt.tight_layout()\n",
        "plt.savefig(\"sales_chart.png\")\n",
        "plt.show()"
      ],
      "metadata": {
        "colab": {
          "base_uri": "https://localhost:8080/",
          "height": 487
        },
        "id": "bnmhm8ecElI_",
        "outputId": "b524775b-6e46-4242-b94a-462d2076a1fa"
      },
      "execution_count": 54,
      "outputs": [
        {
          "output_type": "display_data",
          "data": {
            "text/plain": [
              "<Figure size 640x480 with 1 Axes>"
            ],
            "image/png": "[encoded data removed]"
          },
          "metadata": {}
        }
      ]
    },
    {
      "cell_type": "code",
      "source": [],
      "metadata": {
        "id": "RS1k2p3nEnRT"
      },
      "execution_count": 49,
      "outputs": []
    }
  ]
}